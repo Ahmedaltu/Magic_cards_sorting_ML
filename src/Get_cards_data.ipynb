{
 "cells": [
  {
   "cell_type": "code",
   "execution_count": 1,
   "id": "28b1effe-900c-4c65-8abc-0824f4881fbb",
   "metadata": {},
   "outputs": [],
   "source": [
    "import pickle\n",
    "import requests"
   ]
  },
  {
   "cell_type": "code",
   "execution_count": 2,
   "id": "90217408-1814-425a-ae5e-12cfe704d0c6",
   "metadata": {},
   "outputs": [],
   "source": [
    "#simple function to pickle variables for later use. save a local pickle\n",
    "def save_object(obj, filename):\n",
    "    '''Help: Given an object & filepath, store the object as a pickle for later use.'''\n",
    "    with open(filename, 'wb') as outp:  # Overwrites any existing file.\n",
    "        pickle.dump(obj, outp, pickle.HIGHEST_PROTOCOL)\n",
    "#and later load the file back into a variable\n",
    "def load_object(filename):\n",
    "    '''Help: Loads something previously pickled from the provided file path.'''\n",
    "    with open(filename, 'rb') as f:\n",
    "        load_test = pickle.load(f)\n",
    "    return load_test"
   ]
  },
  {
   "cell_type": "code",
   "execution_count": 3,
   "id": "da3b7de9-1569-49a6-ae25-b55a62a19d92",
   "metadata": {},
   "outputs": [],
   "source": [
    "sets_from_file=load_object('mtg_set_codes.p')"
   ]
  },
  {
   "cell_type": "code",
   "execution_count": 4,
   "id": "6af44d22-14e9-4efe-a241-e3fdaf37bbe4",
   "metadata": {},
   "outputs": [
    {
     "data": {
      "text/plain": [
       "743"
      ]
     },
     "execution_count": 4,
     "metadata": {},
     "output_type": "execute_result"
    }
   ],
   "source": [
    "len(sets_from_file)"
   ]
  },
  {
   "cell_type": "code",
   "execution_count": 5,
   "id": "fc6260d1-c672-4aa6-aab3-80dd26bc83d7",
   "metadata": {},
   "outputs": [
    {
     "data": {
      "text/plain": [
       "['Q08', 'SLC', 'TGN3']"
      ]
     },
     "execution_count": 5,
     "metadata": {},
     "output_type": "execute_result"
    }
   ],
   "source": [
    "sets_from_file[:3]"
   ]
  },
  {
   "cell_type": "code",
   "execution_count": 6,
   "id": "3dcec81b-76c6-44a3-8af7-0ccf71e36723",
   "metadata": {},
   "outputs": [],
   "source": [
    "sets3= sets_from_file[:3]"
   ]
  },
  {
   "cell_type": "code",
   "execution_count": 7,
   "id": "440a1e4c-1b79-4a4a-aa61-2ccb3541ef25",
   "metadata": {},
   "outputs": [
    {
     "data": {
      "text/plain": [
       "['Q08', 'SLC', 'TGN3']"
      ]
     },
     "execution_count": 7,
     "metadata": {},
     "output_type": "execute_result"
    }
   ],
   "source": [
    "sets3"
   ]
  },
  {
   "cell_type": "code",
   "execution_count": 8,
   "id": "f6b17558-a7fb-4c8a-b81c-2b239abfe519",
   "metadata": {},
   "outputs": [
    {
     "name": "stdout",
     "output_type": "stream",
     "text": [
      "Response status code 404\n"
     ]
    }
   ],
   "source": [
    "\n",
    "card_data_list = []\n",
    "SET_QUERY = 'https://api.scryfall.com/cards/search?order=set&unique=prints&include_variations=true&q=s%3A'\n",
    "#user_agent = 'Mozilla/5.0 (Windows; U; Windows NT 5.1; en-US; rv:1.9.0.7) Gecko/2009021910 Firefox/3.0.7'\n",
    "for mtg_set_code in sets_from_file:\n",
    "    response = requests.get(SET_QUERY + mtg_set_code)\n",
    "    if response.status_code != 200:\n",
    "        print('Response status code ' + str(response.status_code))\n",
    "        continue\n",
    "    response_json = response.json()\n",
    "    if response_json['object'] not in ['list', 'card']:\n",
    "        print('Query returned ' + response_json['object'] + ' with code ' + response_json['code'])\n",
    "        continue\n",
    "    \n",
    "    for response_card_data in response_json['data']:\n",
    "        # in here add any data from response that is needed for the recognition\n",
    "        # https://scryfall.com/docs/api/cards\n",
    "        # for images use 'png' or 'large' (jpg) if storage space is an issue\n",
    "        # if only card image is used, then 'art_crop' could be an option\n",
    "        # https://scryfall.com/docs/api/images\n",
    "        if 'image_uris' not in response_card_data or 'png' not in response_card_data['image_uris']:\n",
    "            continue\n",
    "        if 'nonfoil' in response_card_data and response_card_data['nonfoil']:\n",
    "            card_data_list.append({'id': response_card_data['id'], 'image_uri': response_card_data['image_uris']['large'], 'name': response_card_data['name'].split(' //')[0]})\n",
    "            # uncomment the rows below if you want to save the image files locally\n",
    "            #if not os.path.exists(mtg_set_code):\n",
    "                #os.makedirs(mtg_set_code)\n",
    "            #image_size = 'large'\n",
    "            #img_size=(224,312)\n",
    "            # file_path = mtg_set_code +'/' + response_card_data['id'] + '.png'\n",
    "            #file_path = mtg_set_code +'/' + response_card_data['id'] + '.jpg'\n",
    "            #headers={'User-Agent':user_agent,} \n",
    "            #if not os.path.exists(file_path)\n",
    "            #image_url=response_card_data['image_uris']['large']\n",
    "            #urlretrieve(image_url, file_path)\n",
    "            #request=urllib.request.Request(image_url,None,headers)\n",
    "            #response = urllib.request.urlopen(request)\n",
    "            #install PIL package to convert the response into a PIL Image object to further save it\n",
    "            #clean_img=Image.open(response)\n",
    "            #distorted_img = clean_img.resize(img_size)\n",
    "            #distorted_img.save(f\"{mtg_set_code}/{response_card_data['id'] }.jpg\")\n",
    "\n"
   ]
  },
  {
   "cell_type": "code",
   "execution_count": 9,
   "id": "9648be98-be44-4bd6-8b5f-4924e0a11808",
   "metadata": {},
   "outputs": [
    {
     "data": {
      "text/plain": [
       "38416"
      ]
     },
     "execution_count": 9,
     "metadata": {},
     "output_type": "execute_result"
    }
   ],
   "source": [
    "len(card_data_list)"
   ]
  },
  {
   "cell_type": "code",
   "execution_count": 10,
   "id": "fd3d1840-17c5-4b00-ae15-74c232b494e2",
   "metadata": {},
   "outputs": [],
   "source": [
    "save_object(card_data_list, 'card_data_list.p')"
   ]
  },
  {
   "cell_type": "code",
   "execution_count": null,
   "id": "cb99853f-f171-4fc6-9ff7-0c15fdb10fae",
   "metadata": {},
   "outputs": [],
   "source": []
  }
 ],
 "metadata": {
  "kernelspec": {
   "display_name": "Python 3 (ipykernel)",
   "language": "python",
   "name": "python3"
  },
  "language_info": {
   "codemirror_mode": {
    "name": "ipython",
    "version": 3
   },
   "file_extension": ".py",
   "mimetype": "text/x-python",
   "name": "python",
   "nbconvert_exporter": "python",
   "pygments_lexer": "ipython3",
   "version": "3.9.13"
  }
 },
 "nbformat": 4,
 "nbformat_minor": 5
}
