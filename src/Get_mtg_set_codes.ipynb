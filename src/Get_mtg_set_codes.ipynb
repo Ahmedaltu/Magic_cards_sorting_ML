{
 "cells": [
  {
   "cell_type": "code",
   "execution_count": 10,
   "id": "28cd98d5-22f7-40f4-9278-775996261f61",
   "metadata": {},
   "outputs": [],
   "source": [
    "import pickle\n",
    "import requests\n",
    "import urllib.request\n",
    "from datetime import date"
   ]
  },
  {
   "cell_type": "code",
   "execution_count": 11,
   "id": "5ba33aa7-2b08-4866-88b8-583fd38f0c04",
   "metadata": {},
   "outputs": [],
   "source": [
    "def save_object(obj, filename):\n",
    "    '''Help: Given an object & filepath, store the object as a pickle for later use.'''\n",
    "    with open(filename, 'wb') as outp:  # Overwrites any existing file.\n",
    "        pickle.dump(obj, outp, pickle.HIGHEST_PROTOCOL)\n",
    "        "
   ]
  },
  {
   "cell_type": "code",
   "execution_count": 12,
   "id": "fbe06f9c-6074-4dcd-9c01-8f39a711d963",
   "metadata": {},
   "outputs": [],
   "source": [
    "\n",
    "# Get list of all published sets of cards\n",
    "# https://scryfall.com/docs/api/sets\n",
    "response = requests.get('https://api.scryfall.com/sets')\n",
    "mtg_set_codes = []\n",
    "if response.status_code == 200:\n",
    "    response_sets = response.json()['data']\n",
    "    for response_set in response_sets:\n",
    "        if not response_set['digital']:\n",
    "            set_code = response_set['code'].upper()\n",
    "            date_parts = response_set['released_at'].split('-')\n",
    "            if len(date_parts) != 3:\n",
    "                print('Cannot parse release date for ' + response_set['name'] + ' (' + response_set['code'] + ')')\n",
    "                continue\n",
    "            release_date = date(int(date_parts[0]), int(date_parts[1]), int(date_parts[2]))\n",
    "            # ignore sets with release date in the future\n",
    "            if release_date <= date.today():\n",
    "                mtg_set_codes.append(set_code)\n"
   ]
  },
  {
   "cell_type": "code",
   "execution_count": 13,
   "id": "d5dac82d-42d7-49cd-94cd-1d8673df4b8b",
   "metadata": {},
   "outputs": [
    {
     "data": {
      "text/plain": [
       "743"
      ]
     },
     "execution_count": 13,
     "metadata": {},
     "output_type": "execute_result"
    }
   ],
   "source": [
    "len(mtg_set_codes)"
   ]
  },
  {
   "cell_type": "code",
   "execution_count": 14,
   "id": "4c93aa77-3aba-4596-a776-350effaeddfa",
   "metadata": {},
   "outputs": [],
   "source": [
    "save_object(mtg_set_codes, 'mtg_set_codes.p')"
   ]
  },
  {
   "cell_type": "code",
   "execution_count": null,
   "id": "423b7cf1-8f61-4122-b139-0dc19ffc20fb",
   "metadata": {},
   "outputs": [],
   "source": []
  }
 ],
 "metadata": {
  "kernelspec": {
   "display_name": "Python 3 (ipykernel)",
   "language": "python",
   "name": "python3"
  },
  "language_info": {
   "codemirror_mode": {
    "name": "ipython",
    "version": 3
   },
   "file_extension": ".py",
   "mimetype": "text/x-python",
   "name": "python",
   "nbconvert_exporter": "python",
   "pygments_lexer": "ipython3",
   "version": "3.9.13"
  }
 },
 "nbformat": 4,
 "nbformat_minor": 5
}
