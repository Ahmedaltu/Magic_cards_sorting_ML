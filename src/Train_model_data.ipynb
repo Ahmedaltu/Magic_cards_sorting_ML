{
 "cells": [
  {
   "cell_type": "code",
   "execution_count": 60,
   "id": "9dd1e5e8-77e3-45a6-bba5-bc8b9bafaaff",
   "metadata": {},
   "outputs": [],
   "source": [
    "import os\n",
    "import pickle\n",
    "import numpy as np\n",
    "from datetime import datetime\n",
    "from PIL import Image#, ImageDraw, ImageFilter, ImageEnhance\n",
    "from time import localtime, strftime, time\n",
    "from tensorflow.keras import datasets, layers, models"
   ]
  },
  {
   "cell_type": "code",
   "execution_count": 43,
   "id": "9bba88fc-4757-4886-a06a-48998f9aedf7",
   "metadata": {},
   "outputs": [],
   "source": [
    "now = datetime.now()\n",
    "def current_time():\n",
    "    '''Help: Returns the current time as a nice string.'''\n",
    "    #return strftime(\"%B %d, %-I:%M%p\", localtime())\n",
    "    return now.strftime(\"%H:%M:%S\")\n",
    "\n",
    "def elapsed_time(start_time):\n",
    "    '''Using seconds since epoch, determine how much time has passed since the provided float. Returns string\n",
    "    with hours:minutes:seconds'''\n",
    "    elapsed_seconds = time()-start_time\n",
    "    h = int(elapsed_seconds/3600)\n",
    "    m = int((elapsed_seconds-h*3600)/60)\n",
    "    s = int((elapsed_seconds-m*60)-h*3600)\n",
    "    return f'{h}hr {m}m {s}s'"
   ]
  },
  {
   "cell_type": "code",
   "execution_count": 44,
   "id": "050d72d7-857c-474d-ac51-422bc555f205",
   "metadata": {},
   "outputs": [],
   "source": [
    "#simple function to pickle variables for later use. save a local pickle\n",
    "def save_object(obj, filename, verbose=True):\n",
    "    '''Help: Given an object & filepath, store the object as a pickle for later use.'''\n",
    "    with open(filename, 'wb') as outp:  # Overwrites any existing file.\n",
    "        pickle.dump(obj, outp, pickle.HIGHEST_PROTOCOL)\n",
    "    if verbose:\n",
    "        print(f\"File saved at {filename}\")\n",
    "    \n",
    "#and later load the file back into a variable\n",
    "def load_object(filename, verbose=True):\n",
    "    '''Help: Loads something previously pickled from the provided file path.'''\n",
    "    with open(filename, 'rb') as f:\n",
    "        load_test = pickle.load(f)\n",
    "    if verbose:\n",
    "        print(f\"File loaded from {filename}\")\n",
    "    return load_test"
   ]
  },
  {
   "cell_type": "code",
   "execution_count": 45,
   "id": "7370b85d-568b-4026-8c2f-c059325ff1b3",
   "metadata": {},
   "outputs": [
    {
     "name": "stdout",
     "output_type": "stream",
     "text": [
      "File loaded from Image_Sample Arrays.p\n"
     ]
    }
   ],
   "source": [
    "data_model=load_object('Image_Sample Arrays.p')"
   ]
  },
  {
   "cell_type": "code",
   "execution_count": 46,
   "id": "505f7193-9210-468f-bcd4-c4e80da843d0",
   "metadata": {},
   "outputs": [
    {
     "name": "stdout",
     "output_type": "stream",
     "text": [
      "File loaded from data_Of_Trained_Cards.p\n"
     ]
    }
   ],
   "source": [
    "data_of_trained_cards=load_object('data_Of_Trained_Cards.p')"
   ]
  },
  {
   "cell_type": "code",
   "execution_count": 47,
   "id": "effe2185-ef6f-419d-9f37-781feb504bdf",
   "metadata": {},
   "outputs": [
    {
     "data": {
      "text/plain": [
       "10"
      ]
     },
     "execution_count": 47,
     "metadata": {},
     "output_type": "execute_result"
    }
   ],
   "source": [
    "len(data_of_trained_cards)"
   ]
  },
  {
   "cell_type": "code",
   "execution_count": 48,
   "id": "85841b89-09c0-42cb-891c-16256624083f",
   "metadata": {},
   "outputs": [],
   "source": [
    "def train_CNN_model(model_name, model_data, unique_printings, epochs=10, verbose=True):\n",
    "    '''Help: Create and train a CNN model for the provided model_data'''\n",
    "    \n",
    "    #unpack the model_data variable\n",
    "    ((training_images, training_labels), (testing_images, testing_labels)) = model_data\n",
    "\n",
    "    if verbose:\n",
    "        print(f'Initializing {model_name} on {current_time()} ...')\n",
    "        model_start_time = time()\n",
    "\n",
    "    #if the folder already exists, delete it so we can start fresh\n",
    "    if os.path.exists(f'{model_name}.model'):\n",
    "        shutil.rmtree(f'{model_name}.model')\n",
    "\n",
    "    #initialize the neural network model\n",
    "    model = models.Sequential()\n",
    "    model.add(layers.Conv2D(32, (3,3), activation='relu', input_shape=training_images.shape[1:]))\n",
    "    model.add(layers.MaxPooling2D(2,2))\n",
    "    model.add(layers.Conv2D(64, (3,3), activation='relu'))\n",
    "    model.add(layers.MaxPooling2D(2,2))\n",
    "    model.add(layers.Conv2D(64, (3,3), activation='relu'))\n",
    "    model.add(layers.Flatten())\n",
    "    model.add(layers.Dense(64, activation='relu'))\n",
    "    model.add(layers.Dense(unique_printings, activation='softmax'))\n",
    "\n",
    "    #compile the model\n",
    "    model.compile(optimizer='adam', loss='sparse_categorical_crossentropy', metrics=['accuracy'])\n",
    "\n",
    "    if verbose:\n",
    "        print('Network compiled, fitting data now ... \\n')\n",
    "    #fit the model to the provided data\n",
    "    model.fit(training_images, training_labels, epochs=epochs, validation_data=(testing_images, testing_labels))\n",
    "\n",
    "    if verbose:\n",
    "        print('\\nModel fit, elvaluating accuracy and saving locally now ... \\n')\n",
    "    #evaluate the model\n",
    "\n",
    "    loss, accuracy = model.evaluate(testing_images, testing_labels)\n",
    "    print(f'Loss: {loss}')\n",
    "    print(f'Accuracy: {accuracy}')\n",
    "\n",
    "    #save it locally for future reuse\n",
    "    model.save(f'{model_name}.model')\n",
    "\n",
    "    if verbose:\n",
    "        print(f\"\\nModel evaluated & saved locally at '{model_name}.model' on {current_time()} \\\n",
    "after {elapsed_time(model_start_time)}!\\n\")\n",
    "\n",
    "    return model"
   ]
  },
  {
   "cell_type": "code",
   "execution_count": 49,
   "id": "d65a18f4-f2ce-4e99-aa3b-1085a1374c68",
   "metadata": {},
   "outputs": [
    {
     "name": "stdout",
     "output_type": "stream",
     "text": [
      "Initializing ID_ML_Model on 19:30:14 ...\n",
      "Network compiled, fitting data now ... \n",
      "\n",
      "Epoch 1/10\n",
      "4/4 [==============================] - 3s 696ms/step - loss: 5.9858 - accuracy: 0.1500 - val_loss: 2.1810 - val_accuracy: 0.1500\n",
      "Epoch 2/10\n",
      "4/4 [==============================] - 3s 626ms/step - loss: 2.1212 - accuracy: 0.2400 - val_loss: 1.7246 - val_accuracy: 0.7500\n",
      "Epoch 3/10\n",
      "4/4 [==============================] - 3s 640ms/step - loss: 1.4969 - accuracy: 0.6900 - val_loss: 1.3348 - val_accuracy: 0.4500\n",
      "Epoch 4/10\n",
      "4/4 [==============================] - 3s 611ms/step - loss: 1.0023 - accuracy: 0.6700 - val_loss: 0.5672 - val_accuracy: 0.9000\n",
      "Epoch 5/10\n",
      "4/4 [==============================] - 3s 619ms/step - loss: 0.4198 - accuracy: 0.9100 - val_loss: 0.4473 - val_accuracy: 0.8500\n",
      "Epoch 6/10\n",
      "4/4 [==============================] - 3s 605ms/step - loss: 0.2007 - accuracy: 0.9700 - val_loss: 0.1854 - val_accuracy: 0.9500\n",
      "Epoch 7/10\n",
      "4/4 [==============================] - 3s 608ms/step - loss: 0.1046 - accuracy: 0.9800 - val_loss: 0.0881 - val_accuracy: 1.0000\n",
      "Epoch 8/10\n",
      "4/4 [==============================] - 3s 643ms/step - loss: 0.0510 - accuracy: 0.9800 - val_loss: 0.1045 - val_accuracy: 0.9500\n",
      "Epoch 9/10\n",
      "4/4 [==============================] - 3s 811ms/step - loss: 0.0138 - accuracy: 1.0000 - val_loss: 0.0569 - val_accuracy: 1.0000\n",
      "Epoch 10/10\n",
      "4/4 [==============================] - 3s 782ms/step - loss: 0.0186 - accuracy: 1.0000 - val_loss: 0.0643 - val_accuracy: 0.9500\n",
      "\n",
      "Model fit, elvaluating accuracy and saving locally now ... \n",
      "\n",
      "1/1 [==============================] - 0s 177ms/step - loss: 0.0643 - accuracy: 0.9500\n",
      "Loss: 0.06432989239692688\n",
      "Accuracy: 0.949999988079071\n"
     ]
    },
    {
     "name": "stderr",
     "output_type": "stream",
     "text": [
      "WARNING:absl:Found untraced functions such as _jit_compiled_convolution_op, _jit_compiled_convolution_op, _jit_compiled_convolution_op while saving (showing 3 of 3). These functions will not be directly callable after loading.\n"
     ]
    },
    {
     "name": "stdout",
     "output_type": "stream",
     "text": [
      "INFO:tensorflow:Assets written to: ID_ML_Model.model\\assets\n"
     ]
    },
    {
     "name": "stderr",
     "output_type": "stream",
     "text": [
      "INFO:tensorflow:Assets written to: ID_ML_Model.model\\assets\n"
     ]
    },
    {
     "name": "stdout",
     "output_type": "stream",
     "text": [
      "\n",
      "Model evaluated & saved locally at 'ID_ML_Model.model' on 19:30:14 after 0hr 0m 30s!\n",
      "\n"
     ]
    }
   ],
   "source": [
    "model_name='ID_ML_Model'\n",
    "size=len(data_of_trained_cards)\n",
    "epochs=10\n",
    "verbose=True\n",
    "demo_model =train_CNN_model(model_name, data_model, size,epochs, verbose)"
   ]
  },
  {
   "cell_type": "code",
   "execution_count": null,
   "id": "2d323d6d-89c3-4a3a-883c-5a286112a272",
   "metadata": {},
   "outputs": [],
   "source": []
  }
 ],
 "metadata": {
  "kernelspec": {
   "display_name": "base",
   "language": "python",
   "name": "python3"
  },
  "language_info": {
   "codemirror_mode": {
    "name": "ipython",
    "version": 3
   },
   "file_extension": ".py",
   "mimetype": "text/x-python",
   "name": "python",
   "nbconvert_exporter": "python",
   "pygments_lexer": "ipython3",
   "version": "3.9.15 (main, Nov 24 2022, 14:39:17) [MSC v.1916 64 bit (AMD64)]"
  },
  "vscode": {
   "interpreter": {
    "hash": "88033ea6e6aaf353f3d26ef69434bb9b1f089d6b00d896155ae24c39a5d92896"
   }
  }
 },
 "nbformat": 4,
 "nbformat_minor": 5
}
