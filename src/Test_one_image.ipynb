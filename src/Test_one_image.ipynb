{
 "cells": [
  {
   "cell_type": "code",
   "execution_count": 9,
   "id": "68d2faed-b780-45b8-91ab-179d60616acc",
   "metadata": {},
   "outputs": [],
   "source": [
    "import numpy as np\n",
    "import cv2\n",
    "import pickle\n",
    "import tensorflow as tf\n",
    "from PIL import Image#, ImageDraw, ImageFilter, ImageEnhance"
   ]
  },
  {
   "cell_type": "code",
   "execution_count": 10,
   "id": "afc91139-6403-49e4-a521-a66fc3868722",
   "metadata": {},
   "outputs": [],
   "source": [
    "model=tf.keras.models.load_model(\"ID_ML_Model.model\")"
   ]
  },
  {
   "cell_type": "code",
   "execution_count": 11,
   "id": "a00641e4-ee15-4aac-b31a-d67b34c16448",
   "metadata": {},
   "outputs": [],
   "source": [
    "#simple function to pickle variables for later use. save a local pickle\n",
    "def save_object(obj, filename, verbose=True):\n",
    "    '''Help: Given an object & filepath, store the object as a pickle for later use.'''\n",
    "    with open(filename, 'wb') as outp:  # Overwrites any existing file.\n",
    "        pickle.dump(obj, outp, pickle.HIGHEST_PROTOCOL)\n",
    "    if verbose:\n",
    "        print(f\"File saved at {filename}\")\n",
    "    \n",
    "#and later load the file back into a variable\n",
    "def load_object(filename, verbose=True):\n",
    "    '''Help: Loads something previously pickled from the provided file path.'''\n",
    "    with open(filename, 'rb') as f:\n",
    "        load_test = pickle.load(f)\n",
    "    if verbose:\n",
    "        print(f\"File loaded from {filename}\")\n",
    "    return load_test"
   ]
  },
  {
   "cell_type": "code",
   "execution_count": 55,
   "id": "4b3e86dd-eeef-4840-b395-6f40b5f6a779",
   "metadata": {},
   "outputs": [],
   "source": [
    "#test one image afeter providing image path\n",
    "#return the id of the predicted card and the confidence \n",
    "\n",
    "def test_model_via_img(filepath,  model, data,img_size):\n",
    "    img = Image.open(filepath)\n",
    "    test_card = img.resize(img_size)\n",
    "\n",
    "    \n",
    "    img_as_array = np.array(np.array(test_card)/255)\n",
    "\n",
    "    eval_images = []\n",
    "    eval_images.append(img_as_array)\n",
    "    eval_images = np.array(eval_images)\n",
    "\n",
    "    result = model.predict(eval_images)\n",
    "    result_index, confidence = np.argmax(result), result[0,np.argmax(result)]\n",
    "    obj = data[result_index]\n",
    "    id = obj['id']\n",
    "    url= obj['image_uri']\n",
    "    #name= obj['name']\n",
    "    print(f'Model predicted id= {id}, image url= {url} \\\n",
    "with {np.round(confidence*100,4)}% confidence.')\n",
    "    return \n",
    "    \n",
    "\n",
    "\n",
    " "
   ]
  },
  {
   "cell_type": "code",
   "execution_count": 56,
   "id": "2e106a12-aae3-4338-987c-c3ea684c666a",
   "metadata": {},
   "outputs": [
    {
     "name": "stdout",
     "output_type": "stream",
     "text": [
      "File loaded from data_Of_Trained_Cards.p\n"
     ]
    }
   ],
   "source": [
    "data=load_object('data_Of_Trained_Cards.p')"
   ]
  },
  {
   "cell_type": "code",
   "execution_count": 57,
   "id": "54707f3a-dcba-435f-ab39-2bb841f09a9b",
   "metadata": {},
   "outputs": [
    {
     "data": {
      "text/plain": [
       "[{'id': 'c535f7f8-a57e-4ef1-91b4-5e3281bd4407',\n",
       "  'image_uri': 'https://cards.scryfall.io/large/front/c/5/c535f7f8-a57e-4ef1-91b4-5e3281bd4407.jpg?1666654357',\n",
       "  'name': 'Shivan Dragon'}]"
      ]
     },
     "execution_count": 57,
     "metadata": {},
     "output_type": "execute_result"
    }
   ],
   "source": [
    "data[:1]"
   ]
  },
  {
   "cell_type": "code",
   "execution_count": 58,
   "id": "63e89bf1-5f80-4ca8-aa04-c9f8862227d1",
   "metadata": {},
   "outputs": [],
   "source": [
    "#predection\n",
    "img_size=(224,312)\n",
    "filepath = f'Put_one_image_to_test/00.jpeg'\n"
   ]
  },
  {
   "cell_type": "code",
   "execution_count": 59,
   "id": "e771964c-4799-4349-bae8-dd4876cba099",
   "metadata": {},
   "outputs": [
    {
     "name": "stdout",
     "output_type": "stream",
     "text": [
      "1/1 [==============================] - 0s 76ms/step\n",
      "Model predicted id= 9911cc02-ef9a-458b-94d2-50af92ad6628, image url= https://cards.scryfall.io/large/front/9/9/9911cc02-ef9a-458b-94d2-50af92ad6628.jpg?1666654414 with 98.6204% confidence.\n"
     ]
    }
   ],
   "source": [
    "test_model_via_img(filepath,model,data,img_size)"
   ]
  },
  {
   "cell_type": "code",
   "execution_count": null,
   "id": "6d8efa10-7991-41de-acfc-05bc266121fb",
   "metadata": {},
   "outputs": [],
   "source": []
  }
 ],
 "metadata": {
  "kernelspec": {
   "display_name": "Python 3 (ipykernel)",
   "language": "python",
   "name": "python3"
  },
  "language_info": {
   "codemirror_mode": {
    "name": "ipython",
    "version": 3
   },
   "file_extension": ".py",
   "mimetype": "text/x-python",
   "name": "python",
   "nbconvert_exporter": "python",
   "pygments_lexer": "ipython3",
   "version": "3.9.13"
  }
 },
 "nbformat": 4,
 "nbformat_minor": 5
}
