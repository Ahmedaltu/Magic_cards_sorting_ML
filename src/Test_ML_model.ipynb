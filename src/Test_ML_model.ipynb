{
 "cells": [
  {
   "cell_type": "code",
   "execution_count": null,
   "id": "8700ddf4-b04d-4a29-9d46-1c0cdd9db0e8",
   "metadata": {},
   "outputs": [],
   "source": [
    "import numpy as np\n",
    "import cv2\n",
    "import tensorflow as tf\n",
    "from PIL import Image#, ImageDraw, ImageFilter, ImageEnhance"
   ]
  },
  {
   "cell_type": "code",
   "execution_count": 2,
   "id": "89c47464-4d81-4a52-94ef-af45ac37a270",
   "metadata": {},
   "outputs": [],
   "source": [
    "model=tf.keras.models.load_model(\"ID_ML_Model.model\")"
   ]
  },
  {
   "cell_type": "code",
   "execution_count": 3,
   "id": "ea073100-bda0-4ea9-99f9-259cacc56063",
   "metadata": {},
   "outputs": [],
   "source": [
    "#for i in range (size):\n",
    "    #test_model_via_index(image_set_name, i, demo_model, sub_index=1)\n",
    "def test_model_via_index(image_set_name, card_index, model, sub_index = 0):\n",
    "    filepath = f'{image_set_name}/Testing/{card_index}-{sub_index}.jpg'\n",
    "    test_card = Image.open(filepath)\n",
    "\n",
    "    #provide the image to the model and see what comes back\n",
    "    img_as_array = np.array(np.array(test_card)/255)\n",
    "\n",
    "    eval_images = []\n",
    "    eval_images.append(img_as_array)\n",
    "    eval_images = np.array(eval_images)\n",
    "\n",
    "    result = model.predict(eval_images)\n",
    "    result_index, confidence = np.argmax(result), result[0,np.argmax(result)]\n",
    "\n",
    "    correct = False\n",
    "    #display the result!\n",
    "    if result_index == card_index:\n",
    "        #display(test_card)\n",
    "        correct = True\n",
    "        print(f'For card index {card_index}, model predicted index {result_index} \\\n",
    "with {np.round(confidence*100,4)}% confidence.')\n",
    "    \n",
    "    else:\n",
    "        print(f'For card index {card_index}, model predicted index {result_index} \\\n",
    "with {np.round(confidence*100,4)}% confidence. (INCORRECT)')\n",
    "        #display(test_card, Image.open(f'{image_set_name}/Testing/{result_index}-sub_index.jpg'))\n",
    "\n",
    " "
   ]
  },
  {
   "cell_type": "code",
   "execution_count": 8,
   "id": "77a43fe7-1c23-451c-bc3f-4e2009cb297f",
   "metadata": {},
   "outputs": [
    {
     "name": "stdout",
     "output_type": "stream",
     "text": [
      "1/1 [==============================] - 0s 39ms/step\n",
      "For card index 0, model predicted index 0 with 100.0% confidence.\n",
      "1/1 [==============================] - 0s 30ms/step\n",
      "For card index 1, model predicted index 1 with 99.9999% confidence.\n",
      "1/1 [==============================] - 0s 30ms/step\n",
      "For card index 2, model predicted index 2 with 99.9998% confidence.\n",
      "1/1 [==============================] - 0s 34ms/step\n",
      "For card index 3, model predicted index 3 with 100.0% confidence.\n",
      "1/1 [==============================] - 0s 30ms/step\n",
      "For card index 4, model predicted index 4 with 100.0% confidence.\n",
      "1/1 [==============================] - 0s 30ms/step\n",
      "For card index 5, model predicted index 5 with 100.0% confidence.\n",
      "1/1 [==============================] - 0s 29ms/step\n",
      "For card index 6, model predicted index 6 with 100.0% confidence.\n",
      "1/1 [==============================] - 0s 29ms/step\n",
      "For card index 7, model predicted index 7 with 99.9997% confidence.\n",
      "1/1 [==============================] - 0s 30ms/step\n",
      "For card index 8, model predicted index 8 with 100.0% confidence.\n",
      "1/1 [==============================] - 0s 30ms/step\n",
      "For card index 9, model predicted index 9 with 100.0% confidence.\n"
     ]
    }
   ],
   "source": [
    "#go through all testing images & print results\n",
    "size=10\n",
    "image_set_name='Image_Sample'\n",
    "for i in range(size):\n",
    "    test_model_via_index(image_set_name, i, model, sub_index = 0)"
   ]
  },
  {
   "cell_type": "code",
   "execution_count": 9,
   "id": "4f36732a-9630-4b08-b16d-b2a88996d43c",
   "metadata": {},
   "outputs": [
    {
     "name": "stdout",
     "output_type": "stream",
     "text": [
      "1/1 [==============================] - 0s 43ms/step\n",
      "For card index 0, model predicted index 7 with 41.3749% confidence. (INCORRECT)\n",
      "1/1 [==============================] - 0s 28ms/step\n",
      "For card index 1, model predicted index 1 with 96.7208% confidence.\n",
      "1/1 [==============================] - 0s 31ms/step\n",
      "For card index 2, model predicted index 2 with 93.8167% confidence.\n",
      "1/1 [==============================] - 0s 30ms/step\n",
      "For card index 3, model predicted index 3 with 100.0% confidence.\n",
      "1/1 [==============================] - 0s 29ms/step\n",
      "For card index 4, model predicted index 4 with 99.9999% confidence.\n",
      "1/1 [==============================] - 0s 33ms/step\n",
      "For card index 5, model predicted index 5 with 100.0% confidence.\n",
      "1/1 [==============================] - 0s 31ms/step\n",
      "For card index 6, model predicted index 6 with 99.9951% confidence.\n",
      "1/1 [==============================] - 0s 32ms/step\n",
      "For card index 7, model predicted index 7 with 99.7055% confidence.\n",
      "1/1 [==============================] - 0s 28ms/step\n",
      "For card index 8, model predicted index 8 with 99.9944% confidence.\n",
      "1/1 [==============================] - 0s 31ms/step\n",
      "For card index 9, model predicted index 9 with 99.9038% confidence.\n"
     ]
    }
   ],
   "source": [
    "#Testing distorted images\n",
    "size=10\n",
    "image_set_name='Image_Sample'\n",
    "for i in range(size):\n",
    "    test_model_via_index(image_set_name, i, model, sub_index = 1)"
   ]
  },
  {
   "cell_type": "code",
   "execution_count": null,
   "id": "07663d1a-8fa6-48f2-b4c7-a59fe4eb1daf",
   "metadata": {},
   "outputs": [],
   "source": []
  }
 ],
 "metadata": {
  "kernelspec": {
   "display_name": "Python 3 (ipykernel)",
   "language": "python",
   "name": "python3"
  },
  "language_info": {
   "codemirror_mode": {
    "name": "ipython",
    "version": 3
   },
   "file_extension": ".py",
   "mimetype": "text/x-python",
   "name": "python",
   "nbconvert_exporter": "python",
   "pygments_lexer": "ipython3",
   "version": "3.9.13"
  }
 },
 "nbformat": 4,
 "nbformat_minor": 5
}
